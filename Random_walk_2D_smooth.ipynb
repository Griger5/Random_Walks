{
 "cells": [
  {
   "cell_type": "code",
   "execution_count": null,
   "id": "c3533e6b-3cbc-4b61-9405-b77868e5d8af",
   "metadata": {},
   "outputs": [],
   "source": [
    "import matplotlib.pyplot as plt\n",
    "import numpy as np"
   ]
  },
  {
   "cell_type": "code",
   "execution_count": null,
   "id": "9f9a5bda-a36a-41b7-be22-605407e4d1d8",
   "metadata": {},
   "outputs": [],
   "source": [
    "def random_walk2d(steps):\n",
    "    x = 0\n",
    "    y = 0\n",
    "    x_path = [0]\n",
    "    y_path = [0]\n",
    "\n",
    "    for i in range(steps):\n",
    "        angle = np.random.uniform(0, 2*np.pi)\n",
    "        distance = np.random.uniform(0, 1)\n",
    "\n",
    "        x += distance * np.cos(angle)\n",
    "        y += distance * np.sin(angle)\n",
    "\n",
    "        x_path.append(x)\n",
    "        y_path.append(y)\n",
    "\n",
    "    return x_path, y_path"
   ]
  },
  {
   "cell_type": "code",
   "execution_count": null,
   "id": "526bb4ee-55ed-4d00-9cda-7f2e6261b3e6",
   "metadata": {},
   "outputs": [],
   "source": [
    "def show_walk():\n",
    "    plt.figure(figsize=(10, 10))\n",
    "    plt.plot(x_path, y_path, linestyle='-', marker='o', markersize=3)\n",
    "    plt.title('Random Walk on a Plane')\n",
    "    plt.xlabel('X Coordinate')\n",
    "    plt.ylabel('Y Coordinate')\n",
    "    plt.grid(True)\n",
    "    plt.show()"
   ]
  },
  {
   "cell_type": "code",
   "execution_count": null,
   "id": "a27f505f-1f51-47e7-ae52-f104bd5e9af3",
   "metadata": {},
   "outputs": [],
   "source": [
    "steps = 100"
   ]
  },
  {
   "cell_type": "code",
   "execution_count": null,
   "id": "7fd9219a-25e6-481b-900f-03d40dc8d3b2",
   "metadata": {},
   "outputs": [],
   "source": [
    "x_path, y_path = random_walk2d(steps)\n",
    "show_walk(x)"
   ]
  }
 ],
 "metadata": {
  "kernelspec": {
   "display_name": "Python 3 (ipykernel)",
   "language": "python",
   "name": "python3"
  },
  "language_info": {
   "codemirror_mode": {
    "name": "ipython",
    "version": 3
   },
   "file_extension": ".py",
   "mimetype": "text/x-python",
   "name": "python",
   "nbconvert_exporter": "python",
   "pygments_lexer": "ipython3",
   "version": "3.11.4"
  }
 },
 "nbformat": 4,
 "nbformat_minor": 5
}
